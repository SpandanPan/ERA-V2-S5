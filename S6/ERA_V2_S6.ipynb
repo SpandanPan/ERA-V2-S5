{
  "nbformat": 4,
  "nbformat_minor": 0,
  "metadata": {
    "colab": {
      "provenance": []
    },
    "kernelspec": {
      "name": "python3",
      "display_name": "Python 3"
    },
    "accelerator": "GPU"
  },
  "cells": [
    {
      "cell_type": "code",
      "metadata": {
        "id": "0m2JWFliFfKT"
      },
      "source": [
        "from __future__ import print_function\n",
        "import torch\n",
        "import torch.nn as nn\n",
        "import torch.nn.functional as F\n",
        "import torch.optim as optim\n",
        "from torchvision import datasets, transforms"
      ],
      "execution_count": 1,
      "outputs": []
    },
    {
      "cell_type": "code",
      "metadata": {
        "id": "h_Cx9q2QFgM7"
      },
      "source": [
        "class Net(nn.Module):\n",
        "    def __init__(self):\n",
        "        super(Net, self).__init__()\n",
        "        self.dropout_value = 0.1\n",
        "        self.conv1 = nn.Sequential(\n",
        "            nn.Conv2d(1,16,3, padding=1, bias=False),\n",
        "            nn.ReLU(),\n",
        "            nn.BatchNorm2d(16),\n",
        "            nn.Dropout(self.dropout_value)\n",
        "        )\n",
        "        self.conv2 = nn.Sequential(\n",
        "            nn.Conv2d(16,32,3, padding=1, bias=False),\n",
        "            nn.ReLU(),\n",
        "            nn.BatchNorm2d(32),\n",
        "            nn.Dropout(self.dropout_value)\n",
        "        )\n",
        "\n",
        "        self.tb1= nn.Sequential(\n",
        "            nn.MaxPool2d(2,2),\n",
        "            nn.Conv2d(32,8,1, padding=0, bias=False),\n",
        "        )\n",
        "\n",
        "        self.conv3 = nn.Sequential(\n",
        "            nn.Conv2d(8,24,3, padding=1, bias=False),\n",
        "            nn.ReLU(),\n",
        "            nn.BatchNorm2d(24),\n",
        "            nn.Dropout(self.dropout_value)\n",
        "        )\n",
        "        self.conv4 = nn.Sequential(\n",
        "            nn.Conv2d(24,30,3, padding=1, bias=False),\n",
        "            nn.ReLU(),\n",
        "            nn.BatchNorm2d(30),\n",
        "            nn.Dropout(self.dropout_value)\n",
        "        )\n",
        "        self.tb2= nn.Sequential(\n",
        "            nn.MaxPool2d(2,2),\n",
        "            nn.Conv2d(30,8,1, padding=0, bias=False),\n",
        "        )\n",
        "        self.conv5 = nn.Sequential(\n",
        "            nn.Conv2d(8,16,3, padding=1, bias=False),\n",
        "            nn.ReLU(),\n",
        "            nn.BatchNorm2d(16),\n",
        "            nn.Dropout(self.dropout_value)\n",
        "        )\n",
        "        self.conv6 = nn.Sequential(\n",
        "            nn.Conv2d(16,30,3, padding=1, bias=False),\n",
        "            nn.ReLU(),\n",
        "            nn.BatchNorm2d(30),\n",
        "            nn.Dropout(self.dropout_value)\n",
        "        )\n",
        "\n",
        "        self.gp = nn.AvgPool2d(kernel_size=7)\n",
        "        self.op =nn.Sequential(nn.Linear(30,10))\n",
        "\n",
        "\n",
        "    def forward(self, x):\n",
        "        x = self.conv2(self.conv1(x))\n",
        "        x = self.tb1(x)\n",
        "        x = self.conv4(self.conv3(x))\n",
        "        x = self.tb2(x)\n",
        "        x=self.conv6(self.conv5(x))\n",
        "        x = self.gp(x)\n",
        "        x = x.view(-1, 30)\n",
        "        x = self.op(x)\n",
        "        return F.log_softmax(x)"
      ],
      "execution_count": 2,
      "outputs": []
    },
    {
      "cell_type": "code",
      "metadata": {
        "id": "xdydjYTZFyi3",
        "colab": {
          "base_uri": "https://localhost:8080/"
        },
        "outputId": "85cdca44-14d6-4af0-ed91-34a52962b790"
      },
      "source": [
        "#!pip install torchsummary\n",
        "from torchsummary import summary\n",
        "use_cuda = torch.cuda.is_available()\n",
        "device = torch.device(\"cuda\" if use_cuda else \"cpu\")\n",
        "model = Net().to(device)\n",
        "summary(model, input_size=(1, 28, 28))"
      ],
      "execution_count": 3,
      "outputs": [
        {
          "output_type": "stream",
          "name": "stdout",
          "text": [
            "----------------------------------------------------------------\n",
            "        Layer (type)               Output Shape         Param #\n",
            "================================================================\n",
            "            Conv2d-1           [-1, 16, 28, 28]             144\n",
            "              ReLU-2           [-1, 16, 28, 28]               0\n",
            "       BatchNorm2d-3           [-1, 16, 28, 28]              32\n",
            "           Dropout-4           [-1, 16, 28, 28]               0\n",
            "            Conv2d-5           [-1, 32, 28, 28]           4,608\n",
            "              ReLU-6           [-1, 32, 28, 28]               0\n",
            "       BatchNorm2d-7           [-1, 32, 28, 28]              64\n",
            "           Dropout-8           [-1, 32, 28, 28]               0\n",
            "         MaxPool2d-9           [-1, 32, 14, 14]               0\n",
            "           Conv2d-10            [-1, 8, 14, 14]             256\n",
            "           Conv2d-11           [-1, 24, 14, 14]           1,728\n",
            "             ReLU-12           [-1, 24, 14, 14]               0\n",
            "      BatchNorm2d-13           [-1, 24, 14, 14]              48\n",
            "          Dropout-14           [-1, 24, 14, 14]               0\n",
            "           Conv2d-15           [-1, 30, 14, 14]           6,480\n",
            "             ReLU-16           [-1, 30, 14, 14]               0\n",
            "      BatchNorm2d-17           [-1, 30, 14, 14]              60\n",
            "          Dropout-18           [-1, 30, 14, 14]               0\n",
            "        MaxPool2d-19             [-1, 30, 7, 7]               0\n",
            "           Conv2d-20              [-1, 8, 7, 7]             240\n",
            "           Conv2d-21             [-1, 16, 7, 7]           1,152\n",
            "             ReLU-22             [-1, 16, 7, 7]               0\n",
            "      BatchNorm2d-23             [-1, 16, 7, 7]              32\n",
            "          Dropout-24             [-1, 16, 7, 7]               0\n",
            "           Conv2d-25             [-1, 30, 7, 7]           4,320\n",
            "             ReLU-26             [-1, 30, 7, 7]               0\n",
            "      BatchNorm2d-27             [-1, 30, 7, 7]              60\n",
            "          Dropout-28             [-1, 30, 7, 7]               0\n",
            "        AvgPool2d-29             [-1, 30, 1, 1]               0\n",
            "           Linear-30                   [-1, 10]             310\n",
            "================================================================\n",
            "Total params: 19,534\n",
            "Trainable params: 19,534\n",
            "Non-trainable params: 0\n",
            "----------------------------------------------------------------\n",
            "Input size (MB): 0.00\n",
            "Forward/backward pass size (MB): 1.61\n",
            "Params size (MB): 0.07\n",
            "Estimated Total Size (MB): 1.69\n",
            "----------------------------------------------------------------\n"
          ]
        },
        {
          "output_type": "stream",
          "name": "stderr",
          "text": [
            "<ipython-input-2-8ba8af083ec2>:65: UserWarning: Implicit dimension choice for log_softmax has been deprecated. Change the call to include dim=X as an argument.\n",
            "  return F.log_softmax(x)\n"
          ]
        }
      ]
    },
    {
      "cell_type": "code",
      "metadata": {
        "id": "DqTWLaM5GHgH"
      },
      "source": [
        "torch.manual_seed(1)\n",
        "batch_size = 64\n",
        "\n",
        "kwargs = {'num_workers': 1, 'pin_memory': True} if use_cuda else {}\n",
        "train_loader = torch.utils.data.DataLoader(\n",
        "    datasets.MNIST('../data', train=True, download=True,\n",
        "                    transform=transforms.Compose([\n",
        "                        transforms.ToTensor(),\n",
        "                        transforms.Normalize((0.1307,), (0.3081,))\n",
        "                    ])),\n",
        "    batch_size=batch_size, shuffle=True, **kwargs)\n",
        "test_loader = torch.utils.data.DataLoader(\n",
        "    datasets.MNIST('../data', train=False, transform=transforms.Compose([\n",
        "                        transforms.ToTensor(),\n",
        "                        transforms.Normalize((0.1307,), (0.3081,))\n",
        "                    ])),\n",
        "    batch_size=batch_size, shuffle=True, **kwargs)\n"
      ],
      "execution_count": 4,
      "outputs": []
    },
    {
      "cell_type": "code",
      "metadata": {
        "id": "8fDefDhaFlwH"
      },
      "source": [
        "from tqdm import tqdm\n",
        "def train(model, device, train_loader, optimizer, epoch):\n",
        "    model.train()\n",
        "    pbar = tqdm(train_loader)\n",
        "    for batch_idx, (data, target) in enumerate(pbar):\n",
        "        data, target = data.to(device), target.to(device)\n",
        "        optimizer.zero_grad()\n",
        "        output = model(data)\n",
        "        loss = F.nll_loss(output, target)\n",
        "        loss.backward()\n",
        "        optimizer.step()\n",
        "        pbar.set_description(desc= f'loss={loss.item()} batch_id={batch_idx}')\n",
        "\n",
        "\n",
        "def test(model, device, test_loader):\n",
        "    model.eval()\n",
        "    test_loss = 0\n",
        "    correct = 0\n",
        "    with torch.no_grad():\n",
        "        for data, target in test_loader:\n",
        "            data, target = data.to(device), target.to(device)\n",
        "            output = model(data)\n",
        "            test_loss += F.nll_loss(output, target, reduction='sum').item()  # sum up batch loss\n",
        "            pred = output.argmax(dim=1, keepdim=True)  # get the index of the max log-probability\n",
        "            correct += pred.eq(target.view_as(pred)).sum().item()\n",
        "\n",
        "    test_loss /= len(test_loader.dataset)\n",
        "\n",
        "    print('\\nTest set: Average loss: {:.4f}, Accuracy: {}/{} ({:.2f}%)\\n'.format(\n",
        "        test_loss, correct, len(test_loader.dataset),\n",
        "        100. * correct / len(test_loader.dataset)))"
      ],
      "execution_count": 5,
      "outputs": []
    },
    {
      "cell_type": "code",
      "metadata": {
        "id": "MMWbLWO6FuHb",
        "colab": {
          "base_uri": "https://localhost:8080/"
        },
        "outputId": "5ba585c1-5564-4d87-a4ab-6b8ac0d9e763"
      },
      "source": [
        "\n",
        "model = Net().to(device)\n",
        "optimizer = optim.SGD(model.parameters(), lr=0.01, momentum=0.9)\n",
        "\n",
        "for epoch in range(1, 20):\n",
        "    print (\"Epoch: \",epoch)\n",
        "    train(model, device, train_loader, optimizer, epoch)\n",
        "    test(model, device, test_loader)"
      ],
      "execution_count": 6,
      "outputs": [
        {
          "output_type": "stream",
          "name": "stdout",
          "text": [
            "Epoch:  1\n"
          ]
        },
        {
          "output_type": "stream",
          "name": "stderr",
          "text": [
            "  0%|          | 0/938 [00:00<?, ?it/s]<ipython-input-2-8ba8af083ec2>:65: UserWarning: Implicit dimension choice for log_softmax has been deprecated. Change the call to include dim=X as an argument.\n",
            "  return F.log_softmax(x)\n",
            "loss=0.13339091837406158 batch_id=937: 100%|██████████| 938/938 [00:22<00:00, 42.49it/s]\n"
          ]
        },
        {
          "output_type": "stream",
          "name": "stdout",
          "text": [
            "\n",
            "Test set: Average loss: 0.0724, Accuracy: 9804/10000 (98.04%)\n",
            "\n",
            "Epoch:  2\n"
          ]
        },
        {
          "output_type": "stream",
          "name": "stderr",
          "text": [
            "loss=0.02977336384356022 batch_id=937: 100%|██████████| 938/938 [00:22<00:00, 41.98it/s]\n"
          ]
        },
        {
          "output_type": "stream",
          "name": "stdout",
          "text": [
            "\n",
            "Test set: Average loss: 0.0532, Accuracy: 9848/10000 (98.48%)\n",
            "\n",
            "Epoch:  3\n"
          ]
        },
        {
          "output_type": "stream",
          "name": "stderr",
          "text": [
            "loss=0.17688430845737457 batch_id=937: 100%|██████████| 938/938 [00:23<00:00, 40.37it/s]\n"
          ]
        },
        {
          "output_type": "stream",
          "name": "stdout",
          "text": [
            "\n",
            "Test set: Average loss: 0.0654, Accuracy: 9803/10000 (98.03%)\n",
            "\n",
            "Epoch:  4\n"
          ]
        },
        {
          "output_type": "stream",
          "name": "stderr",
          "text": [
            "loss=0.03547804430127144 batch_id=937: 100%|██████████| 938/938 [00:22<00:00, 41.82it/s]\n"
          ]
        },
        {
          "output_type": "stream",
          "name": "stdout",
          "text": [
            "\n",
            "Test set: Average loss: 0.0406, Accuracy: 9874/10000 (98.74%)\n",
            "\n",
            "Epoch:  5\n"
          ]
        },
        {
          "output_type": "stream",
          "name": "stderr",
          "text": [
            "loss=0.052491579204797745 batch_id=937: 100%|██████████| 938/938 [00:22<00:00, 41.35it/s]\n"
          ]
        },
        {
          "output_type": "stream",
          "name": "stdout",
          "text": [
            "\n",
            "Test set: Average loss: 0.0439, Accuracy: 9853/10000 (98.53%)\n",
            "\n",
            "Epoch:  6\n"
          ]
        },
        {
          "output_type": "stream",
          "name": "stderr",
          "text": [
            "loss=0.004755761008709669 batch_id=937: 100%|██████████| 938/938 [00:22<00:00, 41.12it/s]\n"
          ]
        },
        {
          "output_type": "stream",
          "name": "stdout",
          "text": [
            "\n",
            "Test set: Average loss: 0.0321, Accuracy: 9897/10000 (98.97%)\n",
            "\n",
            "Epoch:  7\n"
          ]
        },
        {
          "output_type": "stream",
          "name": "stderr",
          "text": [
            "loss=0.003936016000807285 batch_id=937: 100%|██████████| 938/938 [00:22<00:00, 41.27it/s]\n"
          ]
        },
        {
          "output_type": "stream",
          "name": "stdout",
          "text": [
            "\n",
            "Test set: Average loss: 0.0332, Accuracy: 9896/10000 (98.96%)\n",
            "\n",
            "Epoch:  8\n"
          ]
        },
        {
          "output_type": "stream",
          "name": "stderr",
          "text": [
            "loss=0.056392934173345566 batch_id=937: 100%|██████████| 938/938 [00:22<00:00, 41.05it/s]\n"
          ]
        },
        {
          "output_type": "stream",
          "name": "stdout",
          "text": [
            "\n",
            "Test set: Average loss: 0.0326, Accuracy: 9889/10000 (98.89%)\n",
            "\n",
            "Epoch:  9\n"
          ]
        },
        {
          "output_type": "stream",
          "name": "stderr",
          "text": [
            "loss=0.15481942892074585 batch_id=937: 100%|██████████| 938/938 [00:22<00:00, 41.24it/s]\n"
          ]
        },
        {
          "output_type": "stream",
          "name": "stdout",
          "text": [
            "\n",
            "Test set: Average loss: 0.0250, Accuracy: 9920/10000 (99.20%)\n",
            "\n",
            "Epoch:  10\n"
          ]
        },
        {
          "output_type": "stream",
          "name": "stderr",
          "text": [
            "loss=0.0036517311818897724 batch_id=937: 100%|██████████| 938/938 [00:22<00:00, 41.52it/s]\n"
          ]
        },
        {
          "output_type": "stream",
          "name": "stdout",
          "text": [
            "\n",
            "Test set: Average loss: 0.0254, Accuracy: 9921/10000 (99.21%)\n",
            "\n",
            "Epoch:  11\n"
          ]
        },
        {
          "output_type": "stream",
          "name": "stderr",
          "text": [
            "loss=0.017717402428388596 batch_id=937: 100%|██████████| 938/938 [00:22<00:00, 41.23it/s]\n"
          ]
        },
        {
          "output_type": "stream",
          "name": "stdout",
          "text": [
            "\n",
            "Test set: Average loss: 0.0261, Accuracy: 9920/10000 (99.20%)\n",
            "\n",
            "Epoch:  12\n"
          ]
        },
        {
          "output_type": "stream",
          "name": "stderr",
          "text": [
            "loss=0.49130719900131226 batch_id=937: 100%|██████████| 938/938 [00:22<00:00, 41.05it/s]\n"
          ]
        },
        {
          "output_type": "stream",
          "name": "stdout",
          "text": [
            "\n",
            "Test set: Average loss: 0.0249, Accuracy: 9917/10000 (99.17%)\n",
            "\n",
            "Epoch:  13\n"
          ]
        },
        {
          "output_type": "stream",
          "name": "stderr",
          "text": [
            "loss=0.0005617448478005826 batch_id=937: 100%|██████████| 938/938 [00:22<00:00, 41.66it/s]\n"
          ]
        },
        {
          "output_type": "stream",
          "name": "stdout",
          "text": [
            "\n",
            "Test set: Average loss: 0.0215, Accuracy: 9930/10000 (99.30%)\n",
            "\n",
            "Epoch:  14\n"
          ]
        },
        {
          "output_type": "stream",
          "name": "stderr",
          "text": [
            "loss=0.004491728264838457 batch_id=937: 100%|██████████| 938/938 [00:22<00:00, 42.60it/s]\n"
          ]
        },
        {
          "output_type": "stream",
          "name": "stdout",
          "text": [
            "\n",
            "Test set: Average loss: 0.0236, Accuracy: 9922/10000 (99.22%)\n",
            "\n",
            "Epoch:  15\n"
          ]
        },
        {
          "output_type": "stream",
          "name": "stderr",
          "text": [
            "loss=0.01148170419037342 batch_id=937: 100%|██████████| 938/938 [00:22<00:00, 42.20it/s]\n"
          ]
        },
        {
          "output_type": "stream",
          "name": "stdout",
          "text": [
            "\n",
            "Test set: Average loss: 0.0249, Accuracy: 9917/10000 (99.17%)\n",
            "\n",
            "Epoch:  16\n"
          ]
        },
        {
          "output_type": "stream",
          "name": "stderr",
          "text": [
            "loss=0.0023261408787220716 batch_id=937: 100%|██████████| 938/938 [00:22<00:00, 41.44it/s]\n"
          ]
        },
        {
          "output_type": "stream",
          "name": "stdout",
          "text": [
            "\n",
            "Test set: Average loss: 0.0236, Accuracy: 9918/10000 (99.18%)\n",
            "\n",
            "Epoch:  17\n"
          ]
        },
        {
          "output_type": "stream",
          "name": "stderr",
          "text": [
            "loss=0.0026312200352549553 batch_id=937: 100%|██████████| 938/938 [00:22<00:00, 41.20it/s]\n"
          ]
        },
        {
          "output_type": "stream",
          "name": "stdout",
          "text": [
            "\n",
            "Test set: Average loss: 0.0234, Accuracy: 9923/10000 (99.23%)\n",
            "\n",
            "Epoch:  18\n"
          ]
        },
        {
          "output_type": "stream",
          "name": "stderr",
          "text": [
            "loss=0.009731859900057316 batch_id=937: 100%|██████████| 938/938 [00:22<00:00, 41.62it/s]\n"
          ]
        },
        {
          "output_type": "stream",
          "name": "stdout",
          "text": [
            "\n",
            "Test set: Average loss: 0.0237, Accuracy: 9923/10000 (99.23%)\n",
            "\n",
            "Epoch:  19\n"
          ]
        },
        {
          "output_type": "stream",
          "name": "stderr",
          "text": [
            "loss=0.01578695699572563 batch_id=937: 100%|██████████| 938/938 [00:23<00:00, 40.31it/s]\n"
          ]
        },
        {
          "output_type": "stream",
          "name": "stdout",
          "text": [
            "\n",
            "Test set: Average loss: 0.0298, Accuracy: 9912/10000 (99.12%)\n",
            "\n"
          ]
        }
      ]
    },
    {
      "cell_type": "code",
      "metadata": {
        "id": "So5uk4EkHW6R"
      },
      "source": [],
      "execution_count": null,
      "outputs": []
    }
  ]
}